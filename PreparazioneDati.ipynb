{
 "cells": [
  {
   "cell_type": "code",
   "execution_count": 56,
   "metadata": {},
   "outputs": [
    {
     "name": "stdout",
     "output_type": "stream",
     "text": [
      "Requirement already satisfied: pandas==1.0.1 in /opt/anaconda3/lib/python3.7/site-packages (from -r requirements.txt (line 1)) (1.0.1)\n",
      "Requirement already satisfied: numpy==1.18.1 in /opt/anaconda3/lib/python3.7/site-packages (from -r requirements.txt (line 2)) (1.18.1)\n",
      "Requirement already satisfied: seaborn==0.10.0 in /opt/anaconda3/lib/python3.7/site-packages (from -r requirements.txt (line 3)) (0.10.0)\n",
      "Requirement already satisfied: matplotlib==3.1.3 in /opt/anaconda3/lib/python3.7/site-packages (from -r requirements.txt (line 4)) (3.1.3)\n",
      "Requirement already satisfied: scikit-learn==0.22.1 in /opt/anaconda3/lib/python3.7/site-packages (from -r requirements.txt (line 5)) (0.22.1)\n",
      "Requirement already satisfied: pytz>=2017.2 in /opt/anaconda3/lib/python3.7/site-packages (from pandas==1.0.1->-r requirements.txt (line 1)) (2019.3)\n",
      "Requirement already satisfied: python-dateutil>=2.6.1 in /opt/anaconda3/lib/python3.7/site-packages (from pandas==1.0.1->-r requirements.txt (line 1)) (2.8.1)\n",
      "Requirement already satisfied: scipy>=1.0.1 in /opt/anaconda3/lib/python3.7/site-packages (from seaborn==0.10.0->-r requirements.txt (line 3)) (1.4.1)\n",
      "Requirement already satisfied: kiwisolver>=1.0.1 in /opt/anaconda3/lib/python3.7/site-packages (from matplotlib==3.1.3->-r requirements.txt (line 4)) (1.1.0)\n",
      "Requirement already satisfied: pyparsing!=2.0.4,!=2.1.2,!=2.1.6,>=2.0.1 in /opt/anaconda3/lib/python3.7/site-packages (from matplotlib==3.1.3->-r requirements.txt (line 4)) (2.4.6)\n",
      "Requirement already satisfied: cycler>=0.10 in /opt/anaconda3/lib/python3.7/site-packages (from matplotlib==3.1.3->-r requirements.txt (line 4)) (0.10.0)\n",
      "Requirement already satisfied: joblib>=0.11 in /opt/anaconda3/lib/python3.7/site-packages (from scikit-learn==0.22.1->-r requirements.txt (line 5)) (0.14.1)\n",
      "Requirement already satisfied: six>=1.5 in /opt/anaconda3/lib/python3.7/site-packages (from python-dateutil>=2.6.1->pandas==1.0.1->-r requirements.txt (line 1)) (1.14.0)\n",
      "Requirement already satisfied: setuptools in /opt/anaconda3/lib/python3.7/site-packages (from kiwisolver>=1.0.1->matplotlib==3.1.3->-r requirements.txt (line 4)) (46.0.0.post20200309)\n"
     ]
    }
   ],
   "source": [
    "!pip install -r requirements.txt"
   ]
  },
  {
   "cell_type": "code",
   "execution_count": 57,
   "metadata": {},
   "outputs": [],
   "source": [
    "import pandas as pd\n",
    "from sklearn.model_selection import train_test_split"
   ]
  },
  {
   "cell_type": "code",
   "execution_count": 58,
   "metadata": {},
   "outputs": [],
   "source": [
    "data=pd.read_csv(\"heart_failure_clinical_records_dataset.train.csv\")\n",
    "\n",
    "train,test = train_test_split(data, random_state=1, train_size=0.8, test_size=0.2)"
   ]
  },
  {
   "cell_type": "code",
   "execution_count": 59,
   "metadata": {},
   "outputs": [
    {
     "name": "stdout",
     "output_type": "stream",
     "text": [
      "<class 'pandas.core.frame.DataFrame'>\n",
      "RangeIndex: 239 entries, 0 to 238\n",
      "Data columns (total 13 columns):\n",
      " #   Column                    Non-Null Count  Dtype  \n",
      "---  ------                    --------------  -----  \n",
      " 0   DEATH_EVENT               239 non-null    int64  \n",
      " 1   age                       239 non-null    float64\n",
      " 2   anaemia                   239 non-null    int64  \n",
      " 3   creatinine_phosphokinase  239 non-null    int64  \n",
      " 4   diabetes                  239 non-null    int64  \n",
      " 5   ejection_fraction         239 non-null    int64  \n",
      " 6   high_blood_pressure       239 non-null    int64  \n",
      " 7   platelets                 239 non-null    float64\n",
      " 8   serum_creatinine          239 non-null    float64\n",
      " 9   serum_sodium              239 non-null    int64  \n",
      " 10  sex                       239 non-null    int64  \n",
      " 11  smoking                   239 non-null    int64  \n",
      " 12  time                      239 non-null    int64  \n",
      "dtypes: float64(3), int64(10)\n",
      "memory usage: 24.4 KB\n"
     ]
    }
   ],
   "source": [
    "data.info()"
   ]
  },
  {
   "cell_type": "code",
   "execution_count": 60,
   "metadata": {},
   "outputs": [],
   "source": [
    "train.to_csv('train.csv', index = False)\n",
    "test.to_csv('test.csv', index = False)"
   ]
  },
  {
   "cell_type": "code",
   "execution_count": 61,
   "metadata": {},
   "outputs": [
    {
     "name": "stdout",
     "output_type": "stream",
     "text": [
      "<class 'pandas.core.frame.DataFrame'>\n",
      "Int64Index: 191 entries, 0 to 37\n",
      "Data columns (total 13 columns):\n",
      " #   Column                    Non-Null Count  Dtype  \n",
      "---  ------                    --------------  -----  \n",
      " 0   DEATH_EVENT               191 non-null    int64  \n",
      " 1   age                       191 non-null    float64\n",
      " 2   anaemia                   191 non-null    int64  \n",
      " 3   creatinine_phosphokinase  191 non-null    int64  \n",
      " 4   diabetes                  191 non-null    int64  \n",
      " 5   ejection_fraction         191 non-null    int64  \n",
      " 6   high_blood_pressure       191 non-null    int64  \n",
      " 7   platelets                 191 non-null    float64\n",
      " 8   serum_creatinine          191 non-null    float64\n",
      " 9   serum_sodium              191 non-null    int64  \n",
      " 10  sex                       191 non-null    int64  \n",
      " 11  smoking                   191 non-null    int64  \n",
      " 12  time                      191 non-null    int64  \n",
      "dtypes: float64(3), int64(10)\n",
      "memory usage: 20.9 KB\n"
     ]
    }
   ],
   "source": [
    "train.info()"
   ]
  },
  {
   "cell_type": "code",
   "execution_count": 62,
   "metadata": {},
   "outputs": [
    {
     "name": "stdout",
     "output_type": "stream",
     "text": [
      "<class 'pandas.core.frame.DataFrame'>\n",
      "Int64Index: 48 entries, 233 to 29\n",
      "Data columns (total 13 columns):\n",
      " #   Column                    Non-Null Count  Dtype  \n",
      "---  ------                    --------------  -----  \n",
      " 0   DEATH_EVENT               48 non-null     int64  \n",
      " 1   age                       48 non-null     float64\n",
      " 2   anaemia                   48 non-null     int64  \n",
      " 3   creatinine_phosphokinase  48 non-null     int64  \n",
      " 4   diabetes                  48 non-null     int64  \n",
      " 5   ejection_fraction         48 non-null     int64  \n",
      " 6   high_blood_pressure       48 non-null     int64  \n",
      " 7   platelets                 48 non-null     float64\n",
      " 8   serum_creatinine          48 non-null     float64\n",
      " 9   serum_sodium              48 non-null     int64  \n",
      " 10  sex                       48 non-null     int64  \n",
      " 11  smoking                   48 non-null     int64  \n",
      " 12  time                      48 non-null     int64  \n",
      "dtypes: float64(3), int64(10)\n",
      "memory usage: 5.2 KB\n"
     ]
    }
   ],
   "source": [
    "test.info()"
   ]
  },
  {
   "cell_type": "code",
   "execution_count": null,
   "metadata": {},
   "outputs": [],
   "source": []
  },
  {
   "cell_type": "code",
   "execution_count": null,
   "metadata": {},
   "outputs": [],
   "source": []
  }
 ],
 "metadata": {
  "kernelspec": {
   "display_name": "Python 3",
   "language": "python",
   "name": "python3"
  },
  "language_info": {
   "codemirror_mode": {
    "name": "ipython",
    "version": 3
   },
   "file_extension": ".py",
   "mimetype": "text/x-python",
   "name": "python",
   "nbconvert_exporter": "python",
   "pygments_lexer": "ipython3",
   "version": "3.7.6"
  }
 },
 "nbformat": 4,
 "nbformat_minor": 4
}
